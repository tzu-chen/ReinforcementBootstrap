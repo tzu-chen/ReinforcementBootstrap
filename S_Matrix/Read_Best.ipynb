{
 "cells": [
  {
   "cell_type": "code",
   "execution_count": 1,
   "metadata": {},
   "outputs": [],
   "source": [
    "from S_Matrix_env import*\n",
    "import matplotlib.pyplot as plt\n",
    "import copy\n",
    "from numpy import log10, linspace, inf"
   ]
  },
  {
   "cell_type": "markdown",
   "metadata": {},
   "source": [
    "## String"
   ]
  },
  {
   "cell_type": "markdown",
   "metadata": {},
   "source": [
    "String Amplitude:\n",
    "\n",
    "\\begin{equation}\n",
    "M_{\\text{string}}(s, t) = \\frac{\\Gamma(-s) \\Gamma(-t) \\Gamma(s + t)}{\\Gamma(s + 1)\\Gamma(t + 1)\\Gamma(- s - t + 1)}\n",
    "\\end{equation}"
   ]
  },
  {
   "cell_type": "code",
   "execution_count": 2,
   "metadata": {},
   "outputs": [],
   "source": [
    "Constrained_k = [5 + i for i in range(0, 20)]"
   ]
  },
  {
   "cell_type": "code",
   "execution_count": 21,
   "metadata": {},
   "outputs": [
    {
     "data": {
      "text/plain": [
       "-0.009525741697428883"
      ]
     },
     "execution_count": 21,
     "metadata": {},
     "output_type": "execute_result"
    }
   ],
   "source": [
    "# String spectrun (truncated) with some states removed\n",
    "String_Spec_truncate_1 = {\n",
    "0: [{'m': sqrt(1), 'cl': 1}, {'m': sqrt(2), 'cl': 1/12}, {'m': sqrt(4), 'cl': 107/15120}],\n",
    "2: [{'m': sqrt(2), 'cl': 1/6}, {'m': sqrt(3), 'cl': 5/84},  {'m': sqrt(4), 'cl': 13/504}, {'m': sqrt(5), 'cl': 745/57024}],\n",
    "4: [{'m': sqrt(3), 'cl': 9/280}, {'m': sqrt(4), 'cl': 76/3465}, {'m': sqrt(5), 'cl': 565/41184}],\n",
    "6: [{'m': sqrt(4), 'cl': 16/2079}, {'m': sqrt(5), 'cl': 3125/399168}],\n",
    "8: [{'m': sqrt(5), 'cl': 3125/1482624}]\n",
    "}\n",
    "\n",
    "String_truncate_1 = S_Matrix(String_Spec_truncate_1, String_Spec_truncate_1, Constrained_k)\n",
    "String_truncate_1.Reward()"
   ]
  },
  {
   "cell_type": "code",
   "execution_count": 22,
   "metadata": {},
   "outputs": [
    {
     "data": {
      "text/html": [
       "<div>\n",
       "<style scoped>\n",
       "    .dataframe tbody tr th:only-of-type {\n",
       "        vertical-align: middle;\n",
       "    }\n",
       "\n",
       "    .dataframe tbody tr th {\n",
       "        vertical-align: top;\n",
       "    }\n",
       "\n",
       "    .dataframe thead th {\n",
       "        text-align: right;\n",
       "    }\n",
       "</style>\n",
       "<table border=\"1\" class=\"dataframe\">\n",
       "  <thead>\n",
       "    <tr style=\"text-align: right;\">\n",
       "      <th></th>\n",
       "      <th>m^2 = 1</th>\n",
       "      <th>m^2 = 2</th>\n",
       "      <th>m^2 = 3</th>\n",
       "      <th>m^2 = 4</th>\n",
       "      <th>m^2 = 5</th>\n",
       "    </tr>\n",
       "  </thead>\n",
       "  <tbody>\n",
       "    <tr>\n",
       "      <th>0</th>\n",
       "      <td>1.0</td>\n",
       "      <td>0.083333</td>\n",
       "      <td>NaN</td>\n",
       "      <td>0.007077</td>\n",
       "      <td>NaN</td>\n",
       "    </tr>\n",
       "    <tr>\n",
       "      <th>2</th>\n",
       "      <td>NaN</td>\n",
       "      <td>0.166667</td>\n",
       "      <td>0.059524</td>\n",
       "      <td>0.025794</td>\n",
       "      <td>0.013065</td>\n",
       "    </tr>\n",
       "    <tr>\n",
       "      <th>4</th>\n",
       "      <td>NaN</td>\n",
       "      <td>NaN</td>\n",
       "      <td>0.032143</td>\n",
       "      <td>0.021934</td>\n",
       "      <td>0.013719</td>\n",
       "    </tr>\n",
       "    <tr>\n",
       "      <th>6</th>\n",
       "      <td>NaN</td>\n",
       "      <td>NaN</td>\n",
       "      <td>NaN</td>\n",
       "      <td>0.007696</td>\n",
       "      <td>0.007829</td>\n",
       "    </tr>\n",
       "    <tr>\n",
       "      <th>8</th>\n",
       "      <td>NaN</td>\n",
       "      <td>NaN</td>\n",
       "      <td>NaN</td>\n",
       "      <td>NaN</td>\n",
       "      <td>0.002108</td>\n",
       "    </tr>\n",
       "  </tbody>\n",
       "</table>\n",
       "</div>"
      ],
      "text/plain": [
       "   m^2 = 1   m^2 = 2   m^2 = 3   m^2 = 4   m^2 = 5\n",
       "0      1.0  0.083333       NaN  0.007077       NaN\n",
       "2      NaN  0.166667  0.059524  0.025794  0.013065\n",
       "4      NaN       NaN  0.032143  0.021934  0.013719\n",
       "6      NaN       NaN       NaN  0.007696  0.007829\n",
       "8      NaN       NaN       NaN       NaN  0.002108"
      ]
     },
     "execution_count": 22,
     "metadata": {},
     "output_type": "execute_result"
    }
   ],
   "source": [
    "String_truncate_1.data_frame_form()"
   ]
  },
  {
   "cell_type": "code",
   "execution_count": 23,
   "metadata": {},
   "outputs": [
    {
     "data": {
      "text/plain": [
       "-0.009525741697428883"
      ]
     },
     "execution_count": 23,
     "metadata": {},
     "output_type": "execute_result"
    }
   ],
   "source": [
    "# String spectrum truncated at spin 8\n",
    "String_Spec_truncate_2 = {\n",
    "0: [{'m': sqrt(1), 'cl': 1}, {'m': sqrt(2), 'cl': 1/12}, {'m': sqrt(3), 'cl': 7/360}, {'m': sqrt(4), 'cl': 107/15120}, {'m': sqrt(5), 'cl': 5951/1814400}],\n",
    "2: [{'m': sqrt(2), 'cl': 1/6}, {'m': sqrt(3), 'cl': 5/84},  {'m': sqrt(4), 'cl': 13/504}, {'m': sqrt(5), 'cl': 745/57024}],\n",
    "4: [{'m': sqrt(3), 'cl': 9/280}, {'m': sqrt(4), 'cl': 76/3465}, {'m': sqrt(5), 'cl': 565/41184}],\n",
    "6: [{'m': sqrt(4), 'cl': 16/2079}, {'m': sqrt(5), 'cl': 3125/399168}],\n",
    "8: [{'m': sqrt(5), 'cl': 3125/1482624}]\n",
    "}\n",
    "\n",
    "String_truncate_2 = S_Matrix(String_Spec_truncate_2, String_Spec_truncate_2, Constrained_k)\n",
    "String_truncate_2.Reward()"
   ]
  },
  {
   "cell_type": "code",
   "execution_count": 87,
   "metadata": {},
   "outputs": [
    {
     "data": {
      "text/html": [
       "<div>\n",
       "<style scoped>\n",
       "    .dataframe tbody tr th:only-of-type {\n",
       "        vertical-align: middle;\n",
       "    }\n",
       "\n",
       "    .dataframe tbody tr th {\n",
       "        vertical-align: top;\n",
       "    }\n",
       "\n",
       "    .dataframe thead th {\n",
       "        text-align: right;\n",
       "    }\n",
       "</style>\n",
       "<table border=\"1\" class=\"dataframe\">\n",
       "  <thead>\n",
       "    <tr style=\"text-align: right;\">\n",
       "      <th></th>\n",
       "      <th>m^2 = 1</th>\n",
       "      <th>m^2 = 2</th>\n",
       "      <th>m^2 = 3</th>\n",
       "      <th>m^2 = 4</th>\n",
       "      <th>m^2 = 5</th>\n",
       "    </tr>\n",
       "  </thead>\n",
       "  <tbody>\n",
       "    <tr>\n",
       "      <th>0</th>\n",
       "      <td>1.0</td>\n",
       "      <td>0.083333</td>\n",
       "      <td>0.019444</td>\n",
       "      <td>0.007077</td>\n",
       "      <td>0.003280</td>\n",
       "    </tr>\n",
       "    <tr>\n",
       "      <th>2</th>\n",
       "      <td>NaN</td>\n",
       "      <td>0.166667</td>\n",
       "      <td>0.059524</td>\n",
       "      <td>0.025794</td>\n",
       "      <td>0.013065</td>\n",
       "    </tr>\n",
       "    <tr>\n",
       "      <th>4</th>\n",
       "      <td>NaN</td>\n",
       "      <td>NaN</td>\n",
       "      <td>0.032143</td>\n",
       "      <td>0.021934</td>\n",
       "      <td>0.013719</td>\n",
       "    </tr>\n",
       "    <tr>\n",
       "      <th>6</th>\n",
       "      <td>NaN</td>\n",
       "      <td>NaN</td>\n",
       "      <td>NaN</td>\n",
       "      <td>0.007696</td>\n",
       "      <td>0.007829</td>\n",
       "    </tr>\n",
       "    <tr>\n",
       "      <th>8</th>\n",
       "      <td>NaN</td>\n",
       "      <td>NaN</td>\n",
       "      <td>NaN</td>\n",
       "      <td>NaN</td>\n",
       "      <td>0.002108</td>\n",
       "    </tr>\n",
       "  </tbody>\n",
       "</table>\n",
       "</div>"
      ],
      "text/plain": [
       "   m^2 = 1   m^2 = 2   m^2 = 3   m^2 = 4   m^2 = 5\n",
       "0      1.0  0.083333  0.019444  0.007077  0.003280\n",
       "2      NaN  0.166667  0.059524  0.025794  0.013065\n",
       "4      NaN       NaN  0.032143  0.021934  0.013719\n",
       "6      NaN       NaN       NaN  0.007696  0.007829\n",
       "8      NaN       NaN       NaN       NaN  0.002108"
      ]
     },
     "execution_count": 87,
     "metadata": {},
     "output_type": "execute_result"
    }
   ],
   "source": [
    "String_truncate_2.data_frame_form()"
   ]
  },
  {
   "cell_type": "markdown",
   "metadata": {},
   "source": [
    "## Training"
   ]
  },
  {
   "cell_type": "code",
   "execution_count": 6,
   "metadata": {},
   "outputs": [],
   "source": [
    "# Code for extracting improv history from training code output\n",
    "\n",
    "class Improv_Hist:\n",
    "\n",
    "    def __init__(self, file_name):\n",
    "\n",
    "        self.file_name = file_name\n",
    "        self.hist = self.Data_to_List()\n",
    "        \n",
    "    \n",
    "    def Data_to_List(self):\n",
    "\n",
    "        string_list = []\n",
    "\n",
    "        Step = 'Step'\n",
    "        Best_Reward = 'Best_Reward'\n",
    "        Guess_Mode = 'Guess_Mode'\n",
    "        left_paran_met = 0\n",
    "\n",
    "        with open(self.file_name) as f:\n",
    "\n",
    "            for i, line in enumerate(f.readlines()):\n",
    "\n",
    "\n",
    "                if line[0] != '|' and line[0] != '-':\n",
    "                    \n",
    "                    line = line.removesuffix('\\n')\n",
    "                    #print('line:', type(line))\n",
    "\n",
    "                    if 'S' in line:\n",
    "                        string_list.append( eval( '{' + line + '}') )\n",
    "                    \n",
    "                    elif '[' in line:\n",
    "                        \n",
    "                        left_paran_met += 1\n",
    "                        if left_paran_met % 2 == 1:\n",
    "                            string_list.append(line)\n",
    "\n",
    "                    else:\n",
    "                        if left_paran_met % 2 == 1:\n",
    "                            string_list[-1] += ' '\n",
    "                            string_list[-1] += line\n",
    "                \n",
    "                \n",
    "                if ']' in string_list[-1]:\n",
    "                    \n",
    "                    #print('] True', type(string_list[-1]) )\n",
    "\n",
    "                    string_list[-1] = string_list[-1].split(' ')\n",
    "\n",
    "                    while '' in string_list[-1]:\n",
    "                        string_list[-1].remove('')\n",
    "                    \n",
    "                    string_list[-1] = eval(','.join( string_list[-1] ))\n",
    "        \n",
    "\n",
    "        return string_list\n",
    "    \n",
    "\n",
    "    def All_Reward(self):\n",
    "\n",
    "        rew_list = [data['Best_Reward'] for data in self.hist[::2]]\n",
    "\n",
    "        return rew_list\n",
    "    \n",
    "    \n",
    "    def Model(self, model):\n",
    "        \n",
    "        tmp_model = copy.deepcopy(model)\n",
    "        tmp_model.Update_Spec_with_new_spec(self.hist[-1])\n",
    "        return tmp_model\n",
    "\n"
   ]
  },
  {
   "cell_type": "code",
   "execution_count": 7,
   "metadata": {},
   "outputs": [],
   "source": [
    "# The 3 training results ( start from the mass and spin spectrum of the truncated string spectrum )\n",
    "# (best 1 from String_Spec_truncate_1) \n",
    "# (best 2 & 3 from String_Spec_truncate_2))\n",
    "\n",
    "best_1 = Improv_Hist('S_Matrix_Trained_Best_1.txt')\n",
    "best_2 = Improv_Hist('S_Matrix_Trained_Best_2.txt')\n",
    "best_3 = Improv_Hist('S_Matrix_Trained_Best_3.txt')"
   ]
  },
  {
   "cell_type": "code",
   "execution_count": 11,
   "metadata": {},
   "outputs": [
    {
     "data": {
      "image/png": "[encoded data removed]",
      "text/plain": [
       "<Figure size 432x288 with 1 Axes>"
      ]
     },
     "metadata": {},
     "output_type": "display_data"
    }
   ],
   "source": [
    "# Plot improve history (3 million steps)\n",
    "fig, ax = plt.subplots()\n",
    "fig.patch.set_facecolor('white')\n",
    "\n",
    "ax.plot(array(best_1.All_Reward()))\n",
    "ax.plot(array(best_2.All_Reward()))\n",
    "ax.plot(array(best_3.All_Reward()))\n",
    "ax.grid(True)\n",
    "ax.set_xlabel('Steps (in unit of 10^3)')\n",
    "ax.set_ylabel('Reward')\n",
    "plt.show()"
   ]
  },
  {
   "cell_type": "code",
   "execution_count": 12,
   "metadata": {},
   "outputs": [],
   "source": [
    "Mod_1 = best_1.Model(String_truncate_1)\n",
    "Mod_2 = best_2.Model(String_truncate_2)\n",
    "Mod_3 = best_3.Model(String_truncate_2)"
   ]
  },
  {
   "cell_type": "code",
   "execution_count": 24,
   "metadata": {},
   "outputs": [
    {
     "name": "stdout",
     "output_type": "stream",
     "text": [
      "String_1_Analytic: -0.009525741697428883\n",
      "String_2_Analytic: -0.009525741697428883\n",
      "Best_1: -0.001826766496627762\n",
      "Best_2: -0.0003077508746693069\n",
      "Best_3: -5.1769170366519915e-05\n"
     ]
    }
   ],
   "source": [
    "# The reward from the 3 training \n",
    "# Some coupling are turned off during the training, so the resulting spectrum is not the string spectrum\n",
    "\n",
    "print(f'String_1_Analytic: {String_truncate_1.Reward()}')\n",
    "print(f'String_2_Analytic: {String_truncate_2.Reward()}')\n",
    "print(f'Best_1: {Mod_1.Reward()}')\n",
    "print(f'Best_2: {Mod_2.Reward()}')\n",
    "print(f'Best_3: {Mod_3.Reward()}')"
   ]
  },
  {
   "cell_type": "code",
   "execution_count": 26,
   "metadata": {},
   "outputs": [
    {
     "name": "stdout",
     "output_type": "stream",
     "text": [
      "Best_1: -0.001826766496627762\n"
     ]
    },
    {
     "data": {
      "text/html": [
       "<div>\n",
       "<style scoped>\n",
       "    .dataframe tbody tr th:only-of-type {\n",
       "        vertical-align: middle;\n",
       "    }\n",
       "\n",
       "    .dataframe tbody tr th {\n",
       "        vertical-align: top;\n",
       "    }\n",
       "\n",
       "    .dataframe thead th {\n",
       "        text-align: right;\n",
       "    }\n",
       "</style>\n",
       "<table border=\"1\" class=\"dataframe\">\n",
       "  <thead>\n",
       "    <tr style=\"text-align: right;\">\n",
       "      <th></th>\n",
       "      <th>m^2 = 1</th>\n",
       "      <th>m^2 = 2</th>\n",
       "      <th>m^2 = 3</th>\n",
       "      <th>m^2 = 4</th>\n",
       "      <th>m^2 = 5</th>\n",
       "    </tr>\n",
       "  </thead>\n",
       "  <tbody>\n",
       "    <tr>\n",
       "      <th>0</th>\n",
       "      <td>1.0</td>\n",
       "      <td>0.0</td>\n",
       "      <td>0.593201</td>\n",
       "      <td>0.962792</td>\n",
       "      <td>NaN</td>\n",
       "    </tr>\n",
       "    <tr>\n",
       "      <th>2</th>\n",
       "      <td>NaN</td>\n",
       "      <td>NaN</td>\n",
       "      <td>0.000000</td>\n",
       "      <td>0.000000</td>\n",
       "      <td>0.975358</td>\n",
       "    </tr>\n",
       "    <tr>\n",
       "      <th>4</th>\n",
       "      <td>NaN</td>\n",
       "      <td>NaN</td>\n",
       "      <td>NaN</td>\n",
       "      <td>0.000000</td>\n",
       "      <td>0.000000</td>\n",
       "    </tr>\n",
       "    <tr>\n",
       "      <th>6</th>\n",
       "      <td>NaN</td>\n",
       "      <td>NaN</td>\n",
       "      <td>NaN</td>\n",
       "      <td>NaN</td>\n",
       "      <td>0.003932</td>\n",
       "    </tr>\n",
       "    <tr>\n",
       "      <th>8</th>\n",
       "      <td>NaN</td>\n",
       "      <td>NaN</td>\n",
       "      <td>NaN</td>\n",
       "      <td>NaN</td>\n",
       "      <td>NaN</td>\n",
       "    </tr>\n",
       "  </tbody>\n",
       "</table>\n",
       "</div>"
      ],
      "text/plain": [
       "   m^2 = 1  m^2 = 2   m^2 = 3   m^2 = 4   m^2 = 5\n",
       "0      1.0      0.0  0.593201  0.962792       NaN\n",
       "2      NaN      NaN  0.000000  0.000000  0.975358\n",
       "4      NaN      NaN       NaN  0.000000  0.000000\n",
       "6      NaN      NaN       NaN       NaN  0.003932\n",
       "8      NaN      NaN       NaN       NaN       NaN"
      ]
     },
     "execution_count": 26,
     "metadata": {},
     "output_type": "execute_result"
    }
   ],
   "source": [
    "# Result from the 1st training\n",
    "print(f'Best_1: {Mod_1.Reward()}')\n",
    "Mod_1.data_frame_form()"
   ]
  },
  {
   "cell_type": "code",
   "execution_count": 27,
   "metadata": {},
   "outputs": [
    {
     "name": "stdout",
     "output_type": "stream",
     "text": [
      "Best_2: -0.0003077508746693069\n"
     ]
    },
    {
     "data": {
      "text/html": [
       "<div>\n",
       "<style scoped>\n",
       "    .dataframe tbody tr th:only-of-type {\n",
       "        vertical-align: middle;\n",
       "    }\n",
       "\n",
       "    .dataframe tbody tr th {\n",
       "        vertical-align: top;\n",
       "    }\n",
       "\n",
       "    .dataframe thead th {\n",
       "        text-align: right;\n",
       "    }\n",
       "</style>\n",
       "<table border=\"1\" class=\"dataframe\">\n",
       "  <thead>\n",
       "    <tr style=\"text-align: right;\">\n",
       "      <th></th>\n",
       "      <th>m^2 = 1</th>\n",
       "      <th>m^2 = 2</th>\n",
       "      <th>m^2 = 3</th>\n",
       "      <th>m^2 = 4</th>\n",
       "      <th>m^2 = 5</th>\n",
       "    </tr>\n",
       "  </thead>\n",
       "  <tbody>\n",
       "    <tr>\n",
       "      <th>0</th>\n",
       "      <td>1.0</td>\n",
       "      <td>0.76914</td>\n",
       "      <td>0.006385</td>\n",
       "      <td>0.016290</td>\n",
       "      <td>0.193960</td>\n",
       "    </tr>\n",
       "    <tr>\n",
       "      <th>2</th>\n",
       "      <td>NaN</td>\n",
       "      <td>0.00000</td>\n",
       "      <td>0.731427</td>\n",
       "      <td>0.990793</td>\n",
       "      <td>0.947001</td>\n",
       "    </tr>\n",
       "    <tr>\n",
       "      <th>4</th>\n",
       "      <td>NaN</td>\n",
       "      <td>NaN</td>\n",
       "      <td>0.007189</td>\n",
       "      <td>0.027477</td>\n",
       "      <td>0.142046</td>\n",
       "    </tr>\n",
       "    <tr>\n",
       "      <th>6</th>\n",
       "      <td>NaN</td>\n",
       "      <td>NaN</td>\n",
       "      <td>NaN</td>\n",
       "      <td>0.000000</td>\n",
       "      <td>0.028768</td>\n",
       "    </tr>\n",
       "    <tr>\n",
       "      <th>8</th>\n",
       "      <td>NaN</td>\n",
       "      <td>NaN</td>\n",
       "      <td>NaN</td>\n",
       "      <td>NaN</td>\n",
       "      <td>0.002797</td>\n",
       "    </tr>\n",
       "  </tbody>\n",
       "</table>\n",
       "</div>"
      ],
      "text/plain": [
       "   m^2 = 1  m^2 = 2   m^2 = 3   m^2 = 4   m^2 = 5\n",
       "0      1.0  0.76914  0.006385  0.016290  0.193960\n",
       "2      NaN  0.00000  0.731427  0.990793  0.947001\n",
       "4      NaN      NaN  0.007189  0.027477  0.142046\n",
       "6      NaN      NaN       NaN  0.000000  0.028768\n",
       "8      NaN      NaN       NaN       NaN  0.002797"
      ]
     },
     "execution_count": 27,
     "metadata": {},
     "output_type": "execute_result"
    }
   ],
   "source": [
    "print(f'Best_2: {Mod_2.Reward()}')\n",
    "Mod_2.data_frame_form()"
   ]
  },
  {
   "cell_type": "code",
   "execution_count": 28,
   "metadata": {},
   "outputs": [
    {
     "name": "stdout",
     "output_type": "stream",
     "text": [
      "Best_3: -5.1769170366519915e-05\n"
     ]
    },
    {
     "data": {
      "text/html": [
       "<div>\n",
       "<style scoped>\n",
       "    .dataframe tbody tr th:only-of-type {\n",
       "        vertical-align: middle;\n",
       "    }\n",
       "\n",
       "    .dataframe tbody tr th {\n",
       "        vertical-align: top;\n",
       "    }\n",
       "\n",
       "    .dataframe thead th {\n",
       "        text-align: right;\n",
       "    }\n",
       "</style>\n",
       "<table border=\"1\" class=\"dataframe\">\n",
       "  <thead>\n",
       "    <tr style=\"text-align: right;\">\n",
       "      <th></th>\n",
       "      <th>m^2 = 1</th>\n",
       "      <th>m^2 = 2</th>\n",
       "      <th>m^2 = 3</th>\n",
       "      <th>m^2 = 4</th>\n",
       "      <th>m^2 = 5</th>\n",
       "    </tr>\n",
       "  </thead>\n",
       "  <tbody>\n",
       "    <tr>\n",
       "      <th>0</th>\n",
       "      <td>1.0</td>\n",
       "      <td>1.00000</td>\n",
       "      <td>1.000000</td>\n",
       "      <td>0.011833</td>\n",
       "      <td>0.006027</td>\n",
       "    </tr>\n",
       "    <tr>\n",
       "      <th>2</th>\n",
       "      <td>NaN</td>\n",
       "      <td>0.00216</td>\n",
       "      <td>0.009352</td>\n",
       "      <td>0.018221</td>\n",
       "      <td>0.547921</td>\n",
       "    </tr>\n",
       "    <tr>\n",
       "      <th>4</th>\n",
       "      <td>NaN</td>\n",
       "      <td>NaN</td>\n",
       "      <td>0.000000</td>\n",
       "      <td>0.000000</td>\n",
       "      <td>0.079236</td>\n",
       "    </tr>\n",
       "    <tr>\n",
       "      <th>6</th>\n",
       "      <td>NaN</td>\n",
       "      <td>NaN</td>\n",
       "      <td>NaN</td>\n",
       "      <td>0.000000</td>\n",
       "      <td>0.000000</td>\n",
       "    </tr>\n",
       "    <tr>\n",
       "      <th>8</th>\n",
       "      <td>NaN</td>\n",
       "      <td>NaN</td>\n",
       "      <td>NaN</td>\n",
       "      <td>NaN</td>\n",
       "      <td>0.000319</td>\n",
       "    </tr>\n",
       "  </tbody>\n",
       "</table>\n",
       "</div>"
      ],
      "text/plain": [
       "   m^2 = 1  m^2 = 2   m^2 = 3   m^2 = 4   m^2 = 5\n",
       "0      1.0  1.00000  1.000000  0.011833  0.006027\n",
       "2      NaN  0.00216  0.009352  0.018221  0.547921\n",
       "4      NaN      NaN  0.000000  0.000000  0.079236\n",
       "6      NaN      NaN       NaN  0.000000  0.000000\n",
       "8      NaN      NaN       NaN       NaN  0.000319"
      ]
     },
     "execution_count": 28,
     "metadata": {},
     "output_type": "execute_result"
    }
   ],
   "source": [
    "print(f'Best_3: {Mod_3.Reward()}')\n",
    "Mod_3.data_frame_form()"
   ]
  },
  {
   "cell_type": "code",
   "execution_count": 29,
   "metadata": {},
   "outputs": [
    {
     "name": "stdout",
     "output_type": "stream",
     "text": [
      "-0.009525741697428883\n"
     ]
    },
    {
     "data": {
      "text/html": [
       "<div>\n",
       "<style scoped>\n",
       "    .dataframe tbody tr th:only-of-type {\n",
       "        vertical-align: middle;\n",
       "    }\n",
       "\n",
       "    .dataframe tbody tr th {\n",
       "        vertical-align: top;\n",
       "    }\n",
       "\n",
       "    .dataframe thead th {\n",
       "        text-align: right;\n",
       "    }\n",
       "</style>\n",
       "<table border=\"1\" class=\"dataframe\">\n",
       "  <thead>\n",
       "    <tr style=\"text-align: right;\">\n",
       "      <th></th>\n",
       "      <th>m^2 = 1</th>\n",
       "      <th>m^2 = 2</th>\n",
       "      <th>m^2 = 3</th>\n",
       "      <th>m^2 = 4</th>\n",
       "      <th>m^2 = 5</th>\n",
       "    </tr>\n",
       "  </thead>\n",
       "  <tbody>\n",
       "    <tr>\n",
       "      <th>0</th>\n",
       "      <td>1.0</td>\n",
       "      <td>0.083333</td>\n",
       "      <td>0.019444</td>\n",
       "      <td>0.007077</td>\n",
       "      <td>0.003280</td>\n",
       "    </tr>\n",
       "    <tr>\n",
       "      <th>2</th>\n",
       "      <td>NaN</td>\n",
       "      <td>0.166667</td>\n",
       "      <td>0.059524</td>\n",
       "      <td>0.025794</td>\n",
       "      <td>0.013065</td>\n",
       "    </tr>\n",
       "    <tr>\n",
       "      <th>4</th>\n",
       "      <td>NaN</td>\n",
       "      <td>NaN</td>\n",
       "      <td>0.032143</td>\n",
       "      <td>0.021934</td>\n",
       "      <td>0.013719</td>\n",
       "    </tr>\n",
       "    <tr>\n",
       "      <th>6</th>\n",
       "      <td>NaN</td>\n",
       "      <td>NaN</td>\n",
       "      <td>NaN</td>\n",
       "      <td>0.007696</td>\n",
       "      <td>0.007829</td>\n",
       "    </tr>\n",
       "    <tr>\n",
       "      <th>8</th>\n",
       "      <td>NaN</td>\n",
       "      <td>NaN</td>\n",
       "      <td>NaN</td>\n",
       "      <td>NaN</td>\n",
       "      <td>0.002108</td>\n",
       "    </tr>\n",
       "  </tbody>\n",
       "</table>\n",
       "</div>"
      ],
      "text/plain": [
       "   m^2 = 1   m^2 = 2   m^2 = 3   m^2 = 4   m^2 = 5\n",
       "0      1.0  0.083333  0.019444  0.007077  0.003280\n",
       "2      NaN  0.166667  0.059524  0.025794  0.013065\n",
       "4      NaN       NaN  0.032143  0.021934  0.013719\n",
       "6      NaN       NaN       NaN  0.007696  0.007829\n",
       "8      NaN       NaN       NaN       NaN  0.002108"
      ]
     },
     "execution_count": 29,
     "metadata": {},
     "output_type": "execute_result"
    }
   ],
   "source": [
    "print(String_truncate_2.Reward())\n",
    "String_truncate_2.data_frame_form()"
   ]
  },
  {
   "cell_type": "markdown",
   "metadata": {},
   "source": [
    "### Make Plots"
   ]
  },
  {
   "cell_type": "code",
   "execution_count": 92,
   "metadata": {},
   "outputs": [],
   "source": [
    "def To_Dict(mass, c_coeff):\n",
    "    return {'m': mass, 'cl': c_coeff}"
   ]
  },
  {
   "cell_type": "markdown",
   "metadata": {},
   "source": [
    "#### Load CSV"
   ]
  },
  {
   "cell_type": "code",
   "execution_count": 93,
   "metadata": {},
   "outputs": [],
   "source": [
    "string_spec = pd.read_csv(\"String_Spec_1.csv\")\n",
    "\n",
    "new_spec_dict = {}\n",
    "rand_spec_dict = {}\n",
    "max_n = 9\n",
    "max_spin = (max_n - 1) * 2\n",
    "\n",
    "for spec in string_spec.iloc:\n",
    "    \n",
    "    \n",
    "    if int(spec['Spin']) > max_spin:\n",
    "        break\n",
    "    \n",
    "    if int(spec['Spin']) in new_spec_dict:\n",
    "\n",
    "        if int(spec['n']) <= max_n:\n",
    "            new_spec_dict[int(spec['Spin'])] += [To_Dict(sqrt(int(spec['n'])), spec['cl'])]\n",
    "            \n",
    "    \n",
    "    else:\n",
    "\n",
    "        if int(spec['n']) <= max_n:\n",
    "            new_spec_dict[int(spec['Spin'])] = [To_Dict(sqrt(int(spec['n'])), spec['cl'])]\n",
    "        \n",
    "\n",
    "\n",
    "##################################################################################################################################################################\n",
    "String_1_New = S_Matrix(new_spec_dict, new_spec_dict, Constrained_k)"
   ]
  },
  {
   "cell_type": "markdown",
   "metadata": {},
   "source": [
    "Accumulation Point Amplitude:\n",
    "\n",
    "\\begin{equation}\n",
    "M_{\\text{acc}}(s, t) = \\frac{1}{(s - 1)(t - 1)(- s - t - 1)}\n",
    "\\end{equation}"
   ]
  },
  {
   "cell_type": "code",
   "execution_count": 94,
   "metadata": {},
   "outputs": [],
   "source": [
    "acc_spec = pd.read_csv(\"Acc_Spec_1.csv\")\n",
    "\n",
    "acc_spec_dict = {}\n",
    "max_spin = 800\n",
    "max_n = 400\n",
    "\n",
    "for spec in acc_spec.iloc:\n",
    "    \n",
    "    \n",
    "    if int(spec['Spin']) > max_spin:\n",
    "        break\n",
    "    \n",
    "    if int(spec['Spin']) in acc_spec_dict:\n",
    "\n",
    "        if int(spec['n']) <= max_n:\n",
    "            acc_spec_dict[int(spec['Spin'])] += [To_Dict(sqrt(int(spec['n'])), spec['cl'])]\n",
    "    \n",
    "    else:\n",
    "\n",
    "        if int(spec['n']) <= max_n:\n",
    "            acc_spec_dict[int(spec['Spin'])] = [To_Dict(sqrt(int(spec['n'])), spec['cl'])]\n",
    "\n",
    "##################################################################################################################################################################\n",
    "Accumulation = S_Matrix(acc_spec_dict, acc_spec_dict, Constrained_k)"
   ]
  },
  {
   "cell_type": "code",
   "execution_count": 95,
   "metadata": {},
   "outputs": [],
   "source": [
    "def n_s_Reward(n, s, spec_df, Constraint_k = Constrained_k):\n",
    "\n",
    "    tmp_spec_dict = {}\n",
    "\n",
    "    max_spin = s\n",
    "    max_n = n\n",
    "\n",
    "    for spec in spec_df.iloc:\n",
    "        \n",
    "        \n",
    "        if int(spec['Spin']) > max_spin:\n",
    "            break\n",
    "        \n",
    "        if int(spec['Spin']) in tmp_spec_dict:\n",
    "\n",
    "            if int(spec['n']) <= max_n:\n",
    "                tmp_spec_dict[int(spec['Spin'])] += [To_Dict(sqrt(int(spec['n'])), spec['cl'])]\n",
    "        \n",
    "        else:\n",
    "\n",
    "            if int(spec['n']) <= max_n:\n",
    "                tmp_spec_dict[int(spec['Spin'])] = [To_Dict(sqrt(int(spec['n'])), spec['cl'])]\n",
    "    \n",
    "    Theory = S_Matrix(tmp_spec_dict, tmp_spec_dict, Constraint_k)\n",
    "    \n",
    "    return Theory.Reward()"
   ]
  },
  {
   "cell_type": "code",
   "execution_count": 96,
   "metadata": {},
   "outputs": [],
   "source": [
    "n_max_list_1D = [n for n in range(2, 101)]\n",
    "s_max_list_1D = [int( 2 * (n - 1) ) for n in n_max_list_1D]\n",
    "reward_list_1D = array([n_s_Reward(n, int( 2 * (n - 1) ), string_spec) for n in n_max_list_1D])"
   ]
  },
  {
   "cell_type": "code",
   "execution_count": 103,
   "metadata": {},
   "outputs": [],
   "source": [
    "reward_list_1D_2 = array([n_s_Reward(n, int( 2 * (n - 1) ), string_spec, [5 + i for i in range(0, 6)]) for n in n_max_list_1D])"
   ]
  },
  {
   "cell_type": "code",
   "execution_count": 104,
   "metadata": {},
   "outputs": [],
   "source": [
    "acc_reward_list_1D_2 = array([n_s_Reward(1, s, acc_spec, [5 + i for i in range(0, 6)]) for s in s_max_list_1D])"
   ]
  },
  {
   "cell_type": "code",
   "execution_count": 106,
   "metadata": {},
   "outputs": [
    {
     "data": {
      "image/png": "[encoded data removed]",
      "text/plain": [
       "<Figure size 864x576 with 2 Axes>"
      ]
     },
     "metadata": {
      "needs_background": "light"
     },
     "output_type": "display_data"
    }
   ],
   "source": [
    "fig2, ax_2 = plt.subplots(constrained_layout=True)\n",
    "\n",
    "ax_2.plot(s_max_list_1D, log10(-reward_list_1D), '-o')\n",
    "ax_2.plot(s_max_list_1D, log10(-acc_reward_list_1D_2), '-o')\n",
    "ax_2.plot(8, log10(- Mod_1.Reward()), 'or')\n",
    "ax_2.plot(8, log10(- Mod_2.Reward()), 'ob')\n",
    "ax_2.plot(8, log10(- Mod_3.Reward()), 'og')\n",
    "ax_2.grid(True)\n",
    "ax_2.set_xlabel('Max Spin')\n",
    "ax_2.set_ylabel('log(-Reward)')\n",
    "ax_2.set_xticks(s_max_list_1D[::4])\n",
    "\n",
    "ax_s = ax_2.twiny()\n",
    "ax_s.set_xticks(ax_2.get_xticks())\n",
    "ax_s.set_xbound(ax_2.get_xbound())\n",
    "ax_s.set_xticklabels(1 + array(s_max_list_1D[::4])/2)\n",
    "ax_s.set_xlabel('Max Square Mass (For String)')\n",
    "\n",
    "\n",
    "plt.rcParams[\"figure.figsize\"] = (12, 8)\n",
    "\n",
    "plt.show()"
   ]
  },
  {
   "cell_type": "code",
   "execution_count": 148,
   "metadata": {},
   "outputs": [],
   "source": [
    "n_max_list = [n for n in range(2, 51)]\n",
    "s_max_list = [s for s in range(2, 51, 2)]\n",
    "reward_list = [[-inf if spin > 2 * (n - 1) else n_s_Reward(n, spin, string_spec) for n in n_max_list] for spin in s_max_list]"
   ]
  },
  {
   "cell_type": "code",
   "execution_count": 149,
   "metadata": {},
   "outputs": [],
   "source": [
    "pts_list = [ [n, spin] for n in n_max_list for spin in s_max_list ]"
   ]
  },
  {
   "cell_type": "code",
   "execution_count": 150,
   "metadata": {},
   "outputs": [],
   "source": [
    "spin = linspace(2, 50, 100)\n",
    "mass_squared = spin/2 + 1"
   ]
  },
  {
   "cell_type": "code",
   "execution_count": 152,
   "metadata": {},
   "outputs": [
    {
     "data": {
      "image/png": "[encoded data removed]",
      "text/plain": [
       "<Figure size 864x576 with 2 Axes>"
      ]
     },
     "metadata": {
      "needs_background": "light"
     },
     "output_type": "display_data"
    }
   ],
   "source": [
    "fig, ax = plt.subplots(constrained_layout=True)\n",
    "data = ax.contourf(n_max_list, s_max_list, log10( -array(reward_list) ), levels = 200)\n",
    "N, S = array(pts_list).T\n",
    "ax.plot(N, S, 'ok', ms = 3)\n",
    "plt.xticks(n_max_list[::2])\n",
    "plt.yticks(s_max_list)\n",
    "plt.plot(mass_squared, spin, 'r')\n",
    "ax.set_xlabel('Max Mass Square')\n",
    "ax.set_ylabel('Max Spin')\n",
    "ax.set_aspect(1)\n",
    "label_bar = fig.colorbar(data)\n",
    "label_bar.ax.set_ylabel('log(- Reward)')\n",
    "plt.rcParams[\"figure.figsize\"] = (12, 8)\n",
    "plt.show()"
   ]
  },
  {
   "cell_type": "code",
   "execution_count": null,
   "metadata": {},
   "outputs": [],
   "source": []
  }
 ],
 "metadata": {
  "interpreter": {
   "hash": "aee8b7b246df8f9039afb4144a1f6fd8d2ca17a180786b69acc140d282b71a49"
  },
  "kernelspec": {
   "display_name": "Python 3.9.7 64-bit",
   "language": "python",
   "name": "python3"
  },
  "language_info": {
   "codemirror_mode": {
    "name": "ipython",
    "version": 3
   },
   "file_extension": ".py",
   "mimetype": "text/x-python",
   "name": "python",
   "nbconvert_exporter": "python",
   "pygments_lexer": "ipython3",
   "version": "3.9.7"
  },
  "orig_nbformat": 4
 },
 "nbformat": 4,
 "nbformat_minor": 2
}
