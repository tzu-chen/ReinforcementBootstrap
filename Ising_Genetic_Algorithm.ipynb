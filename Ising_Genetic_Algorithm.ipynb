{
  "cells": [
    {
      "cell_type": "code",
      "execution_count": null,
      "metadata": {
        "colab": {
          "base_uri": "https://localhost:8080/"
        },
        "id": "d0a08d0d",
        "outputId": "bce1d1e0-2ae4-4508-ac3e-0b5f6d27bc34"
      },
      "outputs": [
        {
          "output_type": "stream",
          "name": "stdout",
          "text": [
            "Requirement already satisfied: pygad in /usr/local/lib/python3.7/dist-packages (2.16.1)\n",
            "Requirement already satisfied: numpy in /usr/local/lib/python3.7/dist-packages (from pygad) (1.19.5)\n",
            "Requirement already satisfied: matplotlib in /usr/local/lib/python3.7/dist-packages (from pygad) (3.2.2)\n",
            "Requirement already satisfied: kiwisolver>=1.0.1 in /usr/local/lib/python3.7/dist-packages (from matplotlib->pygad) (1.3.2)\n",
            "Requirement already satisfied: cycler>=0.10 in /usr/local/lib/python3.7/dist-packages (from matplotlib->pygad) (0.11.0)\n",
            "Requirement already satisfied: python-dateutil>=2.1 in /usr/local/lib/python3.7/dist-packages (from matplotlib->pygad) (2.8.2)\n",
            "Requirement already satisfied: pyparsing!=2.0.4,!=2.1.2,!=2.1.6,>=2.0.1 in /usr/local/lib/python3.7/dist-packages (from matplotlib->pygad) (3.0.6)\n",
            "Requirement already satisfied: six>=1.5 in /usr/local/lib/python3.7/dist-packages (from python-dateutil>=2.1->matplotlib->pygad) (1.15.0)\n"
          ]
        }
      ],
      "source": [
        "!pip install pygad\n",
        "import pygad\n",
        "import numpy as np\n",
        "from mpmath import fp, hyp2f1\n",
        "from numpy.linalg import norm\n",
        "from numpy.random import rand\n",
        "from numpy import array, inf, vectorize, repeat, power\n",
        "from numpy import sum as np_sum\n",
        "import time\n",
        "from numpy import abs as np_abs\n",
        "import time"
      ],
      "id": "d0a08d0d"
    },
    {
      "cell_type": "code",
      "execution_count": null,
      "metadata": {
        "id": "7c3883be"
      },
      "outputs": [],
      "source": [
        "def param_to_spec(param):\n",
        "    _A = param[::2]\n",
        "    _B = param[1::2]\n",
        "    output = array([(_A+spins)/2, (_A-spins)/2, _B]).transpose().flatten()\n",
        "    return output\n",
        "\n",
        "def g(h, hb, z, zb):\n",
        "    h12 = 0\n",
        "    h34 = 0\n",
        "    hb12 = 0\n",
        "    hb34 = 0\n",
        "    output = (1/2 if h == hb else 1)*(z**h*zb**hb*(hyp2f1(h-h12, h+h34, 2*h, z))*(hyp2f1(hb-hb12, hb+hb34, 2*hb, zb)) +\n",
        "                                    zb**h*z**hb*(hyp2f1(h-h12, h+h34, 2*h, zb))*(hyp2f1(hb-hb12, hb+hb34, 2*hb, z)))\n",
        "    return fp.mpc(output)\n",
        "\n",
        "\n",
        "def p(h, hb, c, z, zb):\n",
        "    output = c*(power(((z-1)*(zb-1)),1/8)*g(h,hb,z,zb) - power(z,1/8)*power(zb,1/8)*g(h,hb,1-z,1-zb))\n",
        "    return output\n",
        "pts = rand(29,2)\n",
        "\n",
        "vec_p = vectorize(p, excluded=['z', 'zb'])\n",
        "\n",
        "def e(spec, pts):\n",
        "    output=array([(np_sum(vec_p(spec[::3], spec[1::3], spec[2::3], z[0], z[1])) +\n",
        "                  ((z[0]-1)*(z[1]-1))**(1/8)-z[0]**(1/8)*z[1]**(1/8)) for z in pts])\n",
        "    return output\n",
        "\n",
        "\n",
        "def e_abs(spec, pts):\n",
        "    output= np_sum(array([(np_abs(vec_p(spec[::3], spec[1::3], spec[2::3], z[0], z[1])) +\n",
        "                  np.abs(((z[0]-1)*(z[1]-1))**(1/8)-z[0]**(1/8)*z[1]**(1/8))) for z in pts]))\n",
        "    return output\n",
        "\n",
        "def A(spec,pts):\n",
        "    output = norm(e(spec,pts))/np.sum(e_abs(spec,pts))\n",
        "    return output\n",
        "\n",
        "test_spec = array([[2.,2.,2.44e-4],[.5,.5,.25],[2.,0.,.016],[4.,0.,2.2e-4],[6.,0.,1.36e-5]])\n",
        "\n",
        "spins = array([0,0,2,4,6])\n",
        "\n",
        "def accuracy_fn(state):\n",
        "    return A(param_to_spec(state),pts)\n",
        "\n",
        "def error_fn(state):\n",
        "    return norm(np.abs(e(param_to_spec(state),pts)))"
      ],
      "id": "7c3883be"
    },
    {
      "cell_type": "code",
      "execution_count": null,
      "metadata": {
        "colab": {
          "base_uri": "https://localhost:8080/",
          "height": 1000
        },
        "id": "f913add6",
        "outputId": "b7bf1140-526e-4442-bb56-441114546b16"
      },
      "outputs": [
        {
          "output_type": "stream",
          "name": "stdout",
          "text": [
            "Generation:10, best fitness:4.168855998525133\n",
            "Elapsed Time:0h:25m:16s, Estimated to completion 8h, 0m, 14s\n",
            "Generation:20, best fitness:21.562528767878867\n",
            "Elapsed Time:0h:47m:14s, Estimated to completion 7h, 5m, 9s\n",
            "Generation:30, best fitness:50.33212148666936\n",
            "Elapsed Time:1h:9m:15s, Estimated to completion 6h, 32m, 26s\n",
            "Generation:40, best fitness:67.83783309491713\n",
            "Elapsed Time:1h:30m:31s, Estimated to completion 6h, 2m, 6s\n",
            "Generation:50, best fitness:77.32363523903388\n",
            "Elapsed Time:1h:51m:28s, Estimated to completion 5h, 34m, 26s\n",
            "Generation:60, best fitness:99.26647720365183\n",
            "Elapsed Time:2h:12m:35s, Estimated to completion 5h, 9m, 22s\n",
            "Generation:70, best fitness:113.6493894594647\n",
            "Elapsed Time:2h:32m:54s, Estimated to completion 4h, 43m, 59s\n",
            "Generation:80, best fitness:120.94791921593014\n",
            "Elapsed Time:2h:53m:20s, Estimated to completion 4h, 20m, 0s\n",
            "Generation:90, best fitness:124.31288968521928\n",
            "Elapsed Time:3h:11m:42s, Estimated to completion 3h, 54m, 18s\n",
            "Generation:100, best fitness:126.75829976077964\n",
            "Elapsed Time:3h:29m:13s, Estimated to completion 3h, 29m, 13s\n",
            "Generation:110, best fitness:126.99185219223551\n",
            "Elapsed Time:3h:47m:23s, Estimated to completion 3h, 6m, 2s\n",
            "Generation:120, best fitness:127.10675809358105\n",
            "Elapsed Time:4h:5m:1s, Estimated to completion 2h, 43m, 20s\n",
            "Generation:130, best fitness:127.20989887569877\n",
            "Elapsed Time:4h:22m:49s, Estimated to completion 2h, 21m, 31s\n",
            "Generation:140, best fitness:127.57642843406481\n",
            "Elapsed Time:4h:41m:3s, Estimated to completion 2h, 0m, 27s\n",
            "Generation:150, best fitness:127.71325978117028\n",
            "Elapsed Time:5h:0m:12s, Estimated to completion 1h, 40m, 4s\n",
            "Generation:160, best fitness:127.73562125035424\n",
            "Elapsed Time:5h:18m:24s, Estimated to completion 1h, 19m, 36s\n",
            "Generation:170, best fitness:127.78718533287292\n",
            "Elapsed Time:5h:37m:46s, Estimated to completion 0h, 59m, 36s\n",
            "Generation:180, best fitness:127.81842072767576\n",
            "Elapsed Time:5h:56m:51s, Estimated to completion 0h, 39m, 39s\n",
            "Generation:190, best fitness:133.33093895418\n",
            "Elapsed Time:6h:15m:22s, Estimated to completion 0h, 19m, 45s\n",
            "Generation:200, best fitness:135.15891404761578\n",
            "Elapsed Time:6h:33m:31s, Estimated to completion 0h, 0m, 0s\n"
          ]
        },
        {
          "output_type": "display_data",
          "data": {
            "image/png": "[encoded data removed]",
            "text/plain": [
              "<Figure size 432x288 with 1 Axes>"
            ]
          },
          "metadata": {
            "needs_background": "light"
          }
        },
        {
          "output_type": "stream",
          "name": "stdout",
          "text": [
            "Elapsed time:6h:33m:2011s\n",
            "Parameters of the best solution : [2.68575280e+00 2.18192054e-03 1.05428312e+00 2.69933206e-01\n",
            " 1.36685227e+00 6.61739143e-03 3.73318892e+00 1.08051253e-03\n",
            " 6.49733889e+00 1.50224359e-05]\n",
            "Fitness value of the best solution = 135.15891404761578\n",
            "Best solution error: 0.007398698095840761\n",
            "Best solution accuracy: 0.00023546504267818233\n"
          ]
        }
      ],
      "source": [
        "def fitness(solution, solution_idx):\n",
        "    for i in range(len(solution)):\n",
        "        if solution[i]<0 or solution[i]>6.5:\n",
        "            fitness=0\n",
        "            return fitness\n",
        "    fitness=1/error_fn(solution)\n",
        "    return fitness\n",
        "\n",
        "fitness_function = fitness\n",
        "\n",
        "num_generations = 150\n",
        "num_parents_mating = 30\n",
        "\n",
        "sol_per_pop = 300\n",
        "num_genes = 10\n",
        "\n",
        "init_range_low = 0\n",
        "init_range_high = 6.5\n",
        "\n",
        "parent_selection_type = \"rank\"\n",
        "keep_parents = 5\n",
        "\n",
        "crossover_type = \"uniform\"\n",
        "crossover_probability=0.3\n",
        "mutation_type = \"random\"\n",
        "mutation_probability = 0.2\n",
        "\n",
        "initial_pop=[]\n",
        "for i in range(sol_per_pop):\n",
        "        initial_pop.append([4., rand(), 1., rand(), 2., rand(), 4., rand(), 6., rand()])\n",
        "\n",
        "def call(x):\n",
        "    index=x.generations_completed\n",
        "    if index%10==0:\n",
        "        solution, solution_fitness, solution_idx = x.best_solution(ga_instance.last_generation_fitness)\n",
        "        now=time.time()\n",
        "        extimated=((now-start)/index)*(num_generations-index)\n",
        "        h=(now-start)//3600\n",
        "        m=(now-start-h*3600)//60\n",
        "        s=(now-start-h*3600-m*60)//1\n",
        "        he=extimated//3600\n",
        "        me=(extimated-he*3600)//60\n",
        "        se=(extimated-he*3600-me*60)//1\n",
        "        print(\"\"\"Generation:{}, best fitness:{}, solution error:{},solution accuracy:{}\n",
        "        \"\"\".format(x.generations_completed,solution_fitness, error_fn(solution), accuracy_fn(solution)))\n",
        "        print('Best solution', solution)\n",
        "        print('Elapsed Time:{}h:{}m:{}s, Estimated to completion {}h, {}m, {}s'.format(int(h),int(m),int(s), int(he),int(me),int(se)))\n",
        "\n",
        "ga_instance = pygad.GA(num_generations=num_generations,\n",
        "                       num_parents_mating=num_parents_mating,\n",
        "                       fitness_func=fitness_function,\n",
        "                       sol_per_pop=sol_per_pop,\n",
        "                       num_genes=num_genes,\n",
        "                       initial_population=initial_pop,\n",
        "                       parent_selection_type=parent_selection_type,\n",
        "                       keep_parents=keep_parents,\n",
        "                       crossover_type=crossover_type,\n",
        "                       mutation_type=mutation_type,\n",
        "                       mutation_probability=mutation_probability,\n",
        "                       random_mutation_min_val=-0.1,\n",
        "                       random_mutation_max_val=0.1,\n",
        "                       on_generation=call)\n",
        "\n",
        "start = time.time()\n",
        "ga_instance.run()\n",
        "end=time.time()\n",
        "ga_instance.plot_fitness()\n",
        "h=(end-start)//3600\n",
        "m=(end-start-h*3600)//60\n",
        "s=(end-start-h*3600)//1\n",
        "print('Elapsed time:{}h:{}m:{}s'.format(int(h),int(m), int(s)))\n",
        "solution, solution_fitness, solution_idx = ga_instance.best_solution(ga_instance.last_generation_fitness)\n",
        "print(\"Parameters of the best solution : {solution}\".format(solution=solution))\n",
        "print(\"Fitness value of the best solution = {solution_fitness}\".format(solution_fitness=solution_fitness))\n",
        "print(\"Best solution error:\", error_fn(solution))\n",
        "print(\"Best solution accuracy:\", accuracy_fn(solution))"
      ],
      "id": "f913add6"
    },
    {
      "cell_type": "code",
      "execution_count": null,
      "metadata": {
        "id": "yBatixMnSx3S",
        "colab": {
          "base_uri": "https://localhost:8080/"
        },
        "outputId": "38e68ce5-636f-47d7-8f8b-b0a6844e0d23"
      },
      "outputs": [
        {
          "output_type": "stream",
          "name": "stdout",
          "text": [
            "Parameters of the best solution : [2.68575280e+00 2.18192054e-03 1.05428312e+00 2.69933206e-01\n",
            " 1.36685227e+00 6.61739143e-03 3.73318892e+00 1.08051253e-03\n",
            " 6.49733889e+00 1.50224359e-05]\n",
            "Fitness value of the best solution = 135.15891404761578\n",
            "Best solution error: 0.007398698095840761\n",
            "Best solution accuracy: 0.00023546504267818233\n"
          ]
        }
      ],
      "source": [
        "solution, solution_fitness, solution_idx = ga_instance.best_solution(ga_instance.last_generation_fitness)\n",
        "print(\"Parameters of the best solution : {solution}\".format(solution=solution))\n",
        "print(\"Fitness value of the best solution = {solution_fitness}\".format(solution_fitness=solution_fitness))\n",
        "print(\"Best solution error:\", error_fn(solution))\n",
        "print(\"Best solution accuracy:\", accuracy_fn(solution))"
      ],
      "id": "yBatixMnSx3S"
    }
  ],
  "metadata": {
    "colab": {
      "name": "Ising Genetic Algorithm.ipynb",
      "provenance": []
    },
    "kernelspec": {
      "display_name": "Python 3 (ipykernel)",
      "language": "python",
      "name": "python3"
    },
    "language_info": {
      "codemirror_mode": {
        "name": "ipython",
        "version": 3
      },
      "file_extension": ".py",
      "mimetype": "text/x-python",
      "name": "python",
      "nbconvert_exporter": "python",
      "pygments_lexer": "ipython3",
      "version": "3.8.12"
    }
  },
  "nbformat": 4,
  "nbformat_minor": 5
}